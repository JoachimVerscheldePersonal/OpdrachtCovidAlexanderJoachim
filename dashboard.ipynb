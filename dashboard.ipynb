{
 "cells": [
  {
   "cell_type": "code",
   "execution_count": 1,
   "metadata": {},
   "outputs": [],
   "source": [
    "from dashboard_manager import CovidDashboardManager\n",
    "import ipywidgets as widgets\n",
    "import matplotlib.pyplot as plt\n",
    "from ipywidgets import interact"
   ]
  },
  {
   "cell_type": "code",
   "execution_count": 2,
   "metadata": {},
   "outputs": [],
   "source": [
    "covid_dashboard_manager = CovidDashboardManager()\n"
   ]
  },
  {
   "cell_type": "code",
   "execution_count": 3,
   "metadata": {},
   "outputs": [],
   "source": [
    "years = covid_dashboard_manager.get_years()\n",
    "provinces = covid_dashboard_manager.get_provinces()"
   ]
  },
  {
   "cell_type": "code",
   "execution_count": 4,
   "metadata": {},
   "outputs": [],
   "source": [
    "def update_plot(year: int, show_total_reported: bool = True, show_hospital_admission: bool = True, show_deceased: bool = True, province: str = 'Netherlands', show_municipalities: bool = False, show_months: bool = False):\n",
    "    covid_dashboard_manager.render_dashboard(year, show_total_reported, show_hospital_admission, show_deceased, province, show_municipalities, show_months)\n",
    "\n",
    "    \n",
    "    "
   ]
  },
  {
   "cell_type": "code",
   "execution_count": 5,
   "metadata": {},
   "outputs": [],
   "source": [
    "total_reported_checkbox = widgets.Checkbox(value=True, description = 'Total_reported', disabled= False)\n",
    "hospital_admission_checkbox = widgets.Checkbox(value=True, description = 'Hospital_admission', disabled= False)\n",
    "deceased_checkbox = widgets.Checkbox(value=True, description = 'Deceased', disabled= False)\n",
    "show_municipalities_checkbox = widgets.Checkbox(value=False, description = 'Municipalities', disabled= False)\n",
    "show_months_checkbox = widgets.Checkbox(value=False, description = 'Months', disabled= False)"
   ]
  },
  {
   "cell_type": "code",
   "execution_count": 6,
   "metadata": {},
   "outputs": [
    {
     "data": {
      "application/vnd.jupyter.widget-view+json": {
       "model_id": "bfe88b1fdadc4218b7608fbc094d0a7d",
       "version_major": 2,
       "version_minor": 0
      },
      "text/plain": [
       "interactive(children=(Dropdown(description='year', options=(2020, 2021, 2022), value=2020), Checkbox(value=Tru…"
      ]
     },
     "metadata": {},
     "output_type": "display_data"
    },
    {
     "data": {
      "text/plain": [
       "<function __main__.update_plot(year: int, show_total_reported: bool = True, show_hospital_admission: bool = True, show_deceased: bool = True, province: str = 'Netherlands', show_municipalities: bool = False, show_months: bool = False)>"
      ]
     },
     "execution_count": 6,
     "metadata": {},
     "output_type": "execute_result"
    }
   ],
   "source": [
    "interact(update_plot, year = years, show_total_reported = total_reported_checkbox, show_hospital_admission = hospital_admission_checkbox, show_deceased= deceased_checkbox, province = provinces, show_municipalities= show_municipalities_checkbox, show_months= show_months_checkbox)"
   ]
  },
  {
   "cell_type": "code",
   "execution_count": null,
   "metadata": {},
   "outputs": [],
   "source": [
    "\n"
   ]
  },
  {
   "cell_type": "code",
   "execution_count": null,
   "metadata": {},
   "outputs": [],
   "source": []
  },
  {
   "cell_type": "code",
   "execution_count": null,
   "metadata": {},
   "outputs": [],
   "source": []
  }
 ],
 "metadata": {
  "kernelspec": {
   "display_name": "Python 3.9.13 ('cov-env': venv)",
   "language": "python",
   "name": "python3"
  },
  "language_info": {
   "codemirror_mode": {
    "name": "ipython",
    "version": 3
   },
   "file_extension": ".py",
   "mimetype": "text/x-python",
   "name": "python",
   "nbconvert_exporter": "python",
   "pygments_lexer": "ipython3",
   "version": "3.9.13"
  },
  "orig_nbformat": 4,
  "vscode": {
   "interpreter": {
    "hash": "69abf9da1a11a24a8fb4ac8c1ca12f3e544d228ac8cfca3f8cc6047955987872"
   }
  }
 },
 "nbformat": 4,
 "nbformat_minor": 2
}
